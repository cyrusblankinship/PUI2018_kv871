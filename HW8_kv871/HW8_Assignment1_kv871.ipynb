{
 "cells": [
  {
   "cell_type": "code",
   "execution_count": 63,
   "metadata": {},
   "outputs": [],
   "source": [
    "import pandas as pd\n",
    "import os\n",
    "import csv \n",
    "import requests \n",
    "#import xml.etree.ElementTree as ET \n",
    "import numpy as np\n",
    "import pandas as pd\n",
    "import seaborn as sns\n",
    "import matplotlib\n",
    "import matplotlib.pyplot as plt\n",
    "import matplotlib.animation as animation\n",
    "%matplotlib inline\n",
    "import plotly.plotly as py\n",
    "import plotly.tools as tls\n",
    "from matplotlib.dates import date2num\n",
    "import datetime\n"
   ]
  },
  {
   "cell_type": "code",
   "execution_count": 88,
   "metadata": {},
   "outputs": [],
   "source": [
    "#!unzip 'Performance_XML_Data.zip' -d  $PUIDATA"
   ]
  },
  {
   "cell_type": "code",
   "execution_count": 4,
   "metadata": {},
   "outputs": [
    {
     "name": "stdout",
     "output_type": "stream",
     "text": [
      "  % Total    % Received % Xferd  Average Speed   Time    Time     Time  Current\n",
      "                                 Dload  Upload   Total   Spent    Left  Speed\n",
      "100 24.9M    0 24.9M    0     0  2596k      0 --:--:--  0:00:09 --:--:-- 2545k\n"
     ]
    }
   ],
   "source": [
    "!curl -O 'http://web.mta.info/developers/data/nyct/turnstile/turnstile_181103.txt'"
   ]
  },
  {
   "cell_type": "code",
   "execution_count": 122,
   "metadata": {},
   "outputs": [],
   "source": [
    "turn= pd.read_csv('http://web.mta.info/developers/data/nyct/turnstile/turnstile_181103.txt')"
   ]
  },
  {
   "cell_type": "code",
   "execution_count": 123,
   "metadata": {},
   "outputs": [
    {
     "data": {
      "text/html": [
       "<div>\n",
       "<style scoped>\n",
       "    .dataframe tbody tr th:only-of-type {\n",
       "        vertical-align: middle;\n",
       "    }\n",
       "\n",
       "    .dataframe tbody tr th {\n",
       "        vertical-align: top;\n",
       "    }\n",
       "\n",
       "    .dataframe thead th {\n",
       "        text-align: right;\n",
       "    }\n",
       "</style>\n",
       "<table border=\"1\" class=\"dataframe\">\n",
       "  <thead>\n",
       "    <tr style=\"text-align: right;\">\n",
       "      <th></th>\n",
       "      <th>C/A</th>\n",
       "      <th>UNIT</th>\n",
       "      <th>SCP</th>\n",
       "      <th>STATION</th>\n",
       "      <th>LINENAME</th>\n",
       "      <th>DIVISION</th>\n",
       "      <th>DATE</th>\n",
       "      <th>TIME</th>\n",
       "      <th>DESC</th>\n",
       "      <th>ENTRIES</th>\n",
       "      <th>EXITS</th>\n",
       "    </tr>\n",
       "  </thead>\n",
       "  <tbody>\n",
       "    <tr>\n",
       "      <th>0</th>\n",
       "      <td>A002</td>\n",
       "      <td>R051</td>\n",
       "      <td>02-00-00</td>\n",
       "      <td>59 ST</td>\n",
       "      <td>NQR456W</td>\n",
       "      <td>BMT</td>\n",
       "      <td>10/27/2018</td>\n",
       "      <td>00:00:00</td>\n",
       "      <td>REGULAR</td>\n",
       "      <td>6811988</td>\n",
       "      <td>2309879</td>\n",
       "    </tr>\n",
       "    <tr>\n",
       "      <th>1</th>\n",
       "      <td>A002</td>\n",
       "      <td>R051</td>\n",
       "      <td>02-00-00</td>\n",
       "      <td>59 ST</td>\n",
       "      <td>NQR456W</td>\n",
       "      <td>BMT</td>\n",
       "      <td>10/27/2018</td>\n",
       "      <td>04:00:00</td>\n",
       "      <td>REGULAR</td>\n",
       "      <td>6812018</td>\n",
       "      <td>2309884</td>\n",
       "    </tr>\n",
       "    <tr>\n",
       "      <th>2</th>\n",
       "      <td>A002</td>\n",
       "      <td>R051</td>\n",
       "      <td>02-00-00</td>\n",
       "      <td>59 ST</td>\n",
       "      <td>NQR456W</td>\n",
       "      <td>BMT</td>\n",
       "      <td>10/27/2018</td>\n",
       "      <td>08:00:00</td>\n",
       "      <td>REGULAR</td>\n",
       "      <td>6812047</td>\n",
       "      <td>2309925</td>\n",
       "    </tr>\n",
       "    <tr>\n",
       "      <th>3</th>\n",
       "      <td>A002</td>\n",
       "      <td>R051</td>\n",
       "      <td>02-00-00</td>\n",
       "      <td>59 ST</td>\n",
       "      <td>NQR456W</td>\n",
       "      <td>BMT</td>\n",
       "      <td>10/27/2018</td>\n",
       "      <td>12:00:00</td>\n",
       "      <td>REGULAR</td>\n",
       "      <td>6812143</td>\n",
       "      <td>2309997</td>\n",
       "    </tr>\n",
       "    <tr>\n",
       "      <th>4</th>\n",
       "      <td>A002</td>\n",
       "      <td>R051</td>\n",
       "      <td>02-00-00</td>\n",
       "      <td>59 ST</td>\n",
       "      <td>NQR456W</td>\n",
       "      <td>BMT</td>\n",
       "      <td>10/27/2018</td>\n",
       "      <td>16:00:00</td>\n",
       "      <td>REGULAR</td>\n",
       "      <td>6812374</td>\n",
       "      <td>2310050</td>\n",
       "    </tr>\n",
       "  </tbody>\n",
       "</table>\n",
       "</div>"
      ],
      "text/plain": [
       "    C/A  UNIT       SCP STATION LINENAME DIVISION        DATE      TIME  \\\n",
       "0  A002  R051  02-00-00   59 ST  NQR456W      BMT  10/27/2018  00:00:00   \n",
       "1  A002  R051  02-00-00   59 ST  NQR456W      BMT  10/27/2018  04:00:00   \n",
       "2  A002  R051  02-00-00   59 ST  NQR456W      BMT  10/27/2018  08:00:00   \n",
       "3  A002  R051  02-00-00   59 ST  NQR456W      BMT  10/27/2018  12:00:00   \n",
       "4  A002  R051  02-00-00   59 ST  NQR456W      BMT  10/27/2018  16:00:00   \n",
       "\n",
       "      DESC  ENTRIES  \\\n",
       "0  REGULAR  6811988   \n",
       "1  REGULAR  6812018   \n",
       "2  REGULAR  6812047   \n",
       "3  REGULAR  6812143   \n",
       "4  REGULAR  6812374   \n",
       "\n",
       "   EXITS                                                                 \n",
       "0                                            2309879                     \n",
       "1                                            2309884                     \n",
       "2                                            2309925                     \n",
       "3                                            2309997                     \n",
       "4                                            2310050                     "
      ]
     },
     "execution_count": 123,
     "metadata": {},
     "output_type": "execute_result"
    }
   ],
   "source": [
    "turn.head()"
   ]
  },
  {
   "cell_type": "code",
   "execution_count": 124,
   "metadata": {},
   "outputs": [
    {
     "data": {
      "text/plain": [
       "(199613, 11)"
      ]
     },
     "execution_count": 124,
     "metadata": {},
     "output_type": "execute_result"
    }
   ],
   "source": [
    "turn.shape"
   ]
  },
  {
   "cell_type": "code",
   "execution_count": 125,
   "metadata": {},
   "outputs": [
    {
     "data": {
      "text/plain": [
       "array(['10/27/2018', '10/28/2018', '10/29/2018', '10/30/2018',\n",
       "       '10/31/2018', '11/01/2018', '11/02/2018'], dtype=object)"
      ]
     },
     "execution_count": 125,
     "metadata": {},
     "output_type": "execute_result"
    }
   ],
   "source": [
    "turn.DATE.unique()"
   ]
  },
  {
   "cell_type": "code",
   "execution_count": 130,
   "metadata": {},
   "outputs": [],
   "source": [
    "turn['EXITS'] = turn['EXITS                                                               ']"
   ]
  },
  {
   "cell_type": "code",
   "execution_count": 127,
   "metadata": {},
   "outputs": [],
   "source": [
    "turn['DATE'] = pd.to_datetime(turn['DATE'])\n",
    "turn['day_of_week'] = turn['DATE'].dt.day_name()"
   ]
  },
  {
   "cell_type": "code",
   "execution_count": 120,
   "metadata": {},
   "outputs": [],
   "source": [
    "#turn1=turn1.groupby('SCP')['ENTRIES','EXITS'].sum()"
   ]
  },
  {
   "cell_type": "code",
   "execution_count": 128,
   "metadata": {},
   "outputs": [
    {
     "data": {
      "text/html": [
       "<div>\n",
       "<style scoped>\n",
       "    .dataframe tbody tr th:only-of-type {\n",
       "        vertical-align: middle;\n",
       "    }\n",
       "\n",
       "    .dataframe tbody tr th {\n",
       "        vertical-align: top;\n",
       "    }\n",
       "\n",
       "    .dataframe thead th {\n",
       "        text-align: right;\n",
       "    }\n",
       "</style>\n",
       "<table border=\"1\" class=\"dataframe\">\n",
       "  <thead>\n",
       "    <tr style=\"text-align: right;\">\n",
       "      <th></th>\n",
       "      <th>C/A</th>\n",
       "      <th>UNIT</th>\n",
       "      <th>SCP</th>\n",
       "      <th>STATION</th>\n",
       "      <th>LINENAME</th>\n",
       "      <th>DIVISION</th>\n",
       "      <th>DATE</th>\n",
       "      <th>TIME</th>\n",
       "      <th>DESC</th>\n",
       "      <th>ENTRIES</th>\n",
       "      <th>EXITS</th>\n",
       "      <th>EXITS</th>\n",
       "      <th>day_of_week</th>\n",
       "    </tr>\n",
       "  </thead>\n",
       "  <tbody>\n",
       "    <tr>\n",
       "      <th>0</th>\n",
       "      <td>A002</td>\n",
       "      <td>R051</td>\n",
       "      <td>02-00-00</td>\n",
       "      <td>59 ST</td>\n",
       "      <td>NQR456W</td>\n",
       "      <td>BMT</td>\n",
       "      <td>2018-10-27</td>\n",
       "      <td>00:00:00</td>\n",
       "      <td>REGULAR</td>\n",
       "      <td>6811988</td>\n",
       "      <td>2309879</td>\n",
       "      <td>2309879</td>\n",
       "      <td>Saturday</td>\n",
       "    </tr>\n",
       "    <tr>\n",
       "      <th>1</th>\n",
       "      <td>A002</td>\n",
       "      <td>R051</td>\n",
       "      <td>02-00-00</td>\n",
       "      <td>59 ST</td>\n",
       "      <td>NQR456W</td>\n",
       "      <td>BMT</td>\n",
       "      <td>2018-10-27</td>\n",
       "      <td>04:00:00</td>\n",
       "      <td>REGULAR</td>\n",
       "      <td>6812018</td>\n",
       "      <td>2309884</td>\n",
       "      <td>2309884</td>\n",
       "      <td>Saturday</td>\n",
       "    </tr>\n",
       "    <tr>\n",
       "      <th>2</th>\n",
       "      <td>A002</td>\n",
       "      <td>R051</td>\n",
       "      <td>02-00-00</td>\n",
       "      <td>59 ST</td>\n",
       "      <td>NQR456W</td>\n",
       "      <td>BMT</td>\n",
       "      <td>2018-10-27</td>\n",
       "      <td>08:00:00</td>\n",
       "      <td>REGULAR</td>\n",
       "      <td>6812047</td>\n",
       "      <td>2309925</td>\n",
       "      <td>2309925</td>\n",
       "      <td>Saturday</td>\n",
       "    </tr>\n",
       "    <tr>\n",
       "      <th>3</th>\n",
       "      <td>A002</td>\n",
       "      <td>R051</td>\n",
       "      <td>02-00-00</td>\n",
       "      <td>59 ST</td>\n",
       "      <td>NQR456W</td>\n",
       "      <td>BMT</td>\n",
       "      <td>2018-10-27</td>\n",
       "      <td>12:00:00</td>\n",
       "      <td>REGULAR</td>\n",
       "      <td>6812143</td>\n",
       "      <td>2309997</td>\n",
       "      <td>2309997</td>\n",
       "      <td>Saturday</td>\n",
       "    </tr>\n",
       "    <tr>\n",
       "      <th>4</th>\n",
       "      <td>A002</td>\n",
       "      <td>R051</td>\n",
       "      <td>02-00-00</td>\n",
       "      <td>59 ST</td>\n",
       "      <td>NQR456W</td>\n",
       "      <td>BMT</td>\n",
       "      <td>2018-10-27</td>\n",
       "      <td>16:00:00</td>\n",
       "      <td>REGULAR</td>\n",
       "      <td>6812374</td>\n",
       "      <td>2310050</td>\n",
       "      <td>2310050</td>\n",
       "      <td>Saturday</td>\n",
       "    </tr>\n",
       "  </tbody>\n",
       "</table>\n",
       "</div>"
      ],
      "text/plain": [
       "    C/A  UNIT       SCP STATION LINENAME DIVISION       DATE      TIME  \\\n",
       "0  A002  R051  02-00-00   59 ST  NQR456W      BMT 2018-10-27  00:00:00   \n",
       "1  A002  R051  02-00-00   59 ST  NQR456W      BMT 2018-10-27  04:00:00   \n",
       "2  A002  R051  02-00-00   59 ST  NQR456W      BMT 2018-10-27  08:00:00   \n",
       "3  A002  R051  02-00-00   59 ST  NQR456W      BMT 2018-10-27  12:00:00   \n",
       "4  A002  R051  02-00-00   59 ST  NQR456W      BMT 2018-10-27  16:00:00   \n",
       "\n",
       "      DESC  ENTRIES  \\\n",
       "0  REGULAR  6811988   \n",
       "1  REGULAR  6812018   \n",
       "2  REGULAR  6812047   \n",
       "3  REGULAR  6812143   \n",
       "4  REGULAR  6812374   \n",
       "\n",
       "   EXITS                                                                 \\\n",
       "0                                            2309879                      \n",
       "1                                            2309884                      \n",
       "2                                            2309925                      \n",
       "3                                            2309997                      \n",
       "4                                            2310050                      \n",
       "\n",
       "     EXITS day_of_week  \n",
       "0  2309879    Saturday  \n",
       "1  2309884    Saturday  \n",
       "2  2309925    Saturday  \n",
       "3  2309997    Saturday  \n",
       "4  2310050    Saturday  "
      ]
     },
     "execution_count": 128,
     "metadata": {},
     "output_type": "execute_result"
    }
   ],
   "source": [
    "turn.head()"
   ]
  },
  {
   "cell_type": "code",
   "execution_count": 131,
   "metadata": {},
   "outputs": [],
   "source": [
    "turnA = turn[turn['STATION'].str.contains('ASTORIA BLVD')]"
   ]
  },
  {
   "cell_type": "code",
   "execution_count": 132,
   "metadata": {},
   "outputs": [
    {
     "data": {
      "text/plain": [
       "array(['ASTORIA BLVD'], dtype=object)"
      ]
     },
     "execution_count": 132,
     "metadata": {},
     "output_type": "execute_result"
    }
   ],
   "source": [
    "turnA.STATION.unique()"
   ]
  },
  {
   "cell_type": "code",
   "execution_count": 133,
   "metadata": {},
   "outputs": [
    {
     "data": {
      "text/plain": [
       "Index(['C/A', 'UNIT', 'SCP', 'STATION', 'LINENAME', 'DIVISION', 'DATE', 'TIME',\n",
       "       'DESC', 'ENTRIES',\n",
       "       'EXITS                                                               ',\n",
       "       'EXITS', 'day_of_week'],\n",
       "      dtype='object')"
      ]
     },
     "execution_count": 133,
     "metadata": {},
     "output_type": "execute_result"
    }
   ],
   "source": [
    "turnA.columns"
   ]
  },
  {
   "cell_type": "code",
   "execution_count": 134,
   "metadata": {},
   "outputs": [
    {
     "data": {
      "text/html": [
       "<div>\n",
       "<style scoped>\n",
       "    .dataframe tbody tr th:only-of-type {\n",
       "        vertical-align: middle;\n",
       "    }\n",
       "\n",
       "    .dataframe tbody tr th {\n",
       "        vertical-align: top;\n",
       "    }\n",
       "\n",
       "    .dataframe thead th {\n",
       "        text-align: right;\n",
       "    }\n",
       "</style>\n",
       "<table border=\"1\" class=\"dataframe\">\n",
       "  <thead>\n",
       "    <tr style=\"text-align: right;\">\n",
       "      <th></th>\n",
       "      <th>SCP</th>\n",
       "      <th>day_of_week</th>\n",
       "      <th>DATE</th>\n",
       "      <th>TIME</th>\n",
       "      <th>ENTRIES</th>\n",
       "      <th>EXITS</th>\n",
       "    </tr>\n",
       "  </thead>\n",
       "  <tbody>\n",
       "    <tr>\n",
       "      <th>178904</th>\n",
       "      <td>00-00-00</td>\n",
       "      <td>Saturday</td>\n",
       "      <td>2018-10-27</td>\n",
       "      <td>00:00:00</td>\n",
       "      <td>6344228</td>\n",
       "      <td>11844607</td>\n",
       "    </tr>\n",
       "    <tr>\n",
       "      <th>178905</th>\n",
       "      <td>00-00-00</td>\n",
       "      <td>Saturday</td>\n",
       "      <td>2018-10-27</td>\n",
       "      <td>04:00:00</td>\n",
       "      <td>6344240</td>\n",
       "      <td>11844811</td>\n",
       "    </tr>\n",
       "    <tr>\n",
       "      <th>178906</th>\n",
       "      <td>00-00-00</td>\n",
       "      <td>Saturday</td>\n",
       "      <td>2018-10-27</td>\n",
       "      <td>08:00:00</td>\n",
       "      <td>6344314</td>\n",
       "      <td>11844902</td>\n",
       "    </tr>\n",
       "    <tr>\n",
       "      <th>178907</th>\n",
       "      <td>00-00-00</td>\n",
       "      <td>Saturday</td>\n",
       "      <td>2018-10-27</td>\n",
       "      <td>12:00:00</td>\n",
       "      <td>6344519</td>\n",
       "      <td>11845087</td>\n",
       "    </tr>\n",
       "    <tr>\n",
       "      <th>178908</th>\n",
       "      <td>00-00-00</td>\n",
       "      <td>Saturday</td>\n",
       "      <td>2018-10-27</td>\n",
       "      <td>16:00:00</td>\n",
       "      <td>6344655</td>\n",
       "      <td>11845428</td>\n",
       "    </tr>\n",
       "  </tbody>\n",
       "</table>\n",
       "</div>"
      ],
      "text/plain": [
       "             SCP day_of_week       DATE      TIME  ENTRIES     EXITS\n",
       "178904  00-00-00    Saturday 2018-10-27  00:00:00  6344228  11844607\n",
       "178905  00-00-00    Saturday 2018-10-27  04:00:00  6344240  11844811\n",
       "178906  00-00-00    Saturday 2018-10-27  08:00:00  6344314  11844902\n",
       "178907  00-00-00    Saturday 2018-10-27  12:00:00  6344519  11845087\n",
       "178908  00-00-00    Saturday 2018-10-27  16:00:00  6344655  11845428"
      ]
     },
     "execution_count": 134,
     "metadata": {},
     "output_type": "execute_result"
    }
   ],
   "source": [
    "turnB = turnA[['SCP','day_of_week','DATE','TIME','ENTRIES','EXITS']]\n",
    "turnB.head()"
   ]
  },
  {
   "cell_type": "code",
   "execution_count": 135,
   "metadata": {},
   "outputs": [
    {
     "data": {
      "text/plain": [
       "array(['00-00-00', '00-00-01', '00-00-02', '00-00-03', '00-03-00',\n",
       "       '00-05-00', '00-05-01'], dtype=object)"
      ]
     },
     "execution_count": 135,
     "metadata": {},
     "output_type": "execute_result"
    }
   ],
   "source": [
    "turnB.SCP.unique()"
   ]
  },
  {
   "cell_type": "code",
   "execution_count": 136,
   "metadata": {},
   "outputs": [
    {
     "name": "stderr",
     "output_type": "stream",
     "text": [
      "/Users/katharinevoorhees/anaconda3/lib/python3.6/site-packages/ipykernel_launcher.py:1: SettingWithCopyWarning:\n",
      "\n",
      "\n",
      "A value is trying to be set on a copy of a slice from a DataFrame.\n",
      "Try using .loc[row_indexer,col_indexer] = value instead\n",
      "\n",
      "See the caveats in the documentation: http://pandas.pydata.org/pandas-docs/stable/indexing.html#indexing-view-versus-copy\n",
      "\n"
     ]
    }
   ],
   "source": [
    "turnB['day&time']=turnB[\"day_of_week\"].map(str) + ' ' + turnB[\"TIME\"]"
   ]
  },
  {
   "cell_type": "code",
   "execution_count": 137,
   "metadata": {},
   "outputs": [
    {
     "data": {
      "text/html": [
       "<div>\n",
       "<style scoped>\n",
       "    .dataframe tbody tr th:only-of-type {\n",
       "        vertical-align: middle;\n",
       "    }\n",
       "\n",
       "    .dataframe tbody tr th {\n",
       "        vertical-align: top;\n",
       "    }\n",
       "\n",
       "    .dataframe thead th {\n",
       "        text-align: right;\n",
       "    }\n",
       "</style>\n",
       "<table border=\"1\" class=\"dataframe\">\n",
       "  <thead>\n",
       "    <tr style=\"text-align: right;\">\n",
       "      <th></th>\n",
       "      <th>SCP</th>\n",
       "      <th>day_of_week</th>\n",
       "      <th>DATE</th>\n",
       "      <th>TIME</th>\n",
       "      <th>ENTRIES</th>\n",
       "      <th>EXITS</th>\n",
       "      <th>day&amp;time</th>\n",
       "    </tr>\n",
       "  </thead>\n",
       "  <tbody>\n",
       "    <tr>\n",
       "      <th>178904</th>\n",
       "      <td>00-00-00</td>\n",
       "      <td>Saturday</td>\n",
       "      <td>2018-10-27</td>\n",
       "      <td>00:00:00</td>\n",
       "      <td>6344228</td>\n",
       "      <td>11844607</td>\n",
       "      <td>Saturday 00:00:00</td>\n",
       "    </tr>\n",
       "    <tr>\n",
       "      <th>178905</th>\n",
       "      <td>00-00-00</td>\n",
       "      <td>Saturday</td>\n",
       "      <td>2018-10-27</td>\n",
       "      <td>04:00:00</td>\n",
       "      <td>6344240</td>\n",
       "      <td>11844811</td>\n",
       "      <td>Saturday 04:00:00</td>\n",
       "    </tr>\n",
       "    <tr>\n",
       "      <th>178906</th>\n",
       "      <td>00-00-00</td>\n",
       "      <td>Saturday</td>\n",
       "      <td>2018-10-27</td>\n",
       "      <td>08:00:00</td>\n",
       "      <td>6344314</td>\n",
       "      <td>11844902</td>\n",
       "      <td>Saturday 08:00:00</td>\n",
       "    </tr>\n",
       "    <tr>\n",
       "      <th>178907</th>\n",
       "      <td>00-00-00</td>\n",
       "      <td>Saturday</td>\n",
       "      <td>2018-10-27</td>\n",
       "      <td>12:00:00</td>\n",
       "      <td>6344519</td>\n",
       "      <td>11845087</td>\n",
       "      <td>Saturday 12:00:00</td>\n",
       "    </tr>\n",
       "    <tr>\n",
       "      <th>178908</th>\n",
       "      <td>00-00-00</td>\n",
       "      <td>Saturday</td>\n",
       "      <td>2018-10-27</td>\n",
       "      <td>16:00:00</td>\n",
       "      <td>6344655</td>\n",
       "      <td>11845428</td>\n",
       "      <td>Saturday 16:00:00</td>\n",
       "    </tr>\n",
       "  </tbody>\n",
       "</table>\n",
       "</div>"
      ],
      "text/plain": [
       "             SCP day_of_week       DATE      TIME  ENTRIES     EXITS  \\\n",
       "178904  00-00-00    Saturday 2018-10-27  00:00:00  6344228  11844607   \n",
       "178905  00-00-00    Saturday 2018-10-27  04:00:00  6344240  11844811   \n",
       "178906  00-00-00    Saturday 2018-10-27  08:00:00  6344314  11844902   \n",
       "178907  00-00-00    Saturday 2018-10-27  12:00:00  6344519  11845087   \n",
       "178908  00-00-00    Saturday 2018-10-27  16:00:00  6344655  11845428   \n",
       "\n",
       "                 day&time  \n",
       "178904  Saturday 00:00:00  \n",
       "178905  Saturday 04:00:00  \n",
       "178906  Saturday 08:00:00  \n",
       "178907  Saturday 12:00:00  \n",
       "178908  Saturday 16:00:00  "
      ]
     },
     "execution_count": 137,
     "metadata": {},
     "output_type": "execute_result"
    }
   ],
   "source": [
    "turnB.head()"
   ]
  },
  {
   "cell_type": "code",
   "execution_count": 93,
   "metadata": {},
   "outputs": [],
   "source": [
    "#turnB[\"ENTRIES\"] = pd.to_numeric(turnB[\"ENTRIES\"])\n",
    "#turnB['EXITS'] = pd.to_numeric(turnB['EXITS                                                               '])"
   ]
  },
  {
   "cell_type": "code",
   "execution_count": 159,
   "metadata": {},
   "outputs": [],
   "source": [
    "turnC =  turnB[turnB['day_of_week'].str.contains('Monday')]"
   ]
  },
  {
   "cell_type": "code",
   "execution_count": 17,
   "metadata": {},
   "outputs": [
    {
     "name": "stderr",
     "output_type": "stream",
     "text": [
      "/Users/katharinevoorhees/anaconda3/lib/python3.6/site-packages/ipykernel_launcher.py:1: SettingWithCopyWarning: \n",
      "A value is trying to be set on a copy of a slice from a DataFrame.\n",
      "Try using .loc[row_indexer,col_indexer] = value instead\n",
      "\n",
      "See the caveats in the documentation: http://pandas.pydata.org/pandas-docs/stable/indexing.html#indexing-view-versus-copy\n",
      "  \"\"\"Entry point for launching an IPython kernel.\n"
     ]
    }
   ],
   "source": [
    "#turnC['ENTRIES'] = (turnC['ENTRIES'] - turnC['ENTRIES'].mean()) / turnC['ENTRIES'].std()"
   ]
  },
  {
   "cell_type": "code",
   "execution_count": 36,
   "metadata": {},
   "outputs": [
    {
     "name": "stderr",
     "output_type": "stream",
     "text": [
      "/Users/katharinevoorhees/anaconda3/lib/python3.6/site-packages/ipykernel_launcher.py:1: SettingWithCopyWarning:\n",
      "\n",
      "\n",
      "A value is trying to be set on a copy of a slice from a DataFrame.\n",
      "Try using .loc[row_indexer,col_indexer] = value instead\n",
      "\n",
      "See the caveats in the documentation: http://pandas.pydata.org/pandas-docs/stable/indexing.html#indexing-view-versus-copy\n",
      "\n"
     ]
    }
   ],
   "source": [
    "#turnC['EXITS'] = (turnC['EXITS'] - turnC['EXITS'].mean()) / turnC['EXITS'].std()"
   ]
  },
  {
   "cell_type": "code",
   "execution_count": 160,
   "metadata": {},
   "outputs": [
    {
     "name": "stderr",
     "output_type": "stream",
     "text": [
      "/Users/katharinevoorhees/anaconda3/lib/python3.6/site-packages/ipykernel_launcher.py:1: SettingWithCopyWarning:\n",
      "\n",
      "\n",
      "A value is trying to be set on a copy of a slice from a DataFrame.\n",
      "Try using .loc[row_indexer,col_indexer] = value instead\n",
      "\n",
      "See the caveats in the documentation: http://pandas.pydata.org/pandas-docs/stable/indexing.html#indexing-view-versus-copy\n",
      "\n",
      "/Users/katharinevoorhees/anaconda3/lib/python3.6/site-packages/ipykernel_launcher.py:3: SettingWithCopyWarning:\n",
      "\n",
      "\n",
      "A value is trying to be set on a copy of a slice from a DataFrame.\n",
      "Try using .loc[row_indexer,col_indexer] = value instead\n",
      "\n",
      "See the caveats in the documentation: http://pandas.pydata.org/pandas-docs/stable/indexing.html#indexing-view-versus-copy\n",
      "\n"
     ]
    }
   ],
   "source": [
    "turnC['TIME'] = pd.to_datetime(turn['TIME'])\n",
    "\n",
    "turnC['hour'] = turnC.TIME.dt.hour\n"
   ]
  },
  {
   "cell_type": "code",
   "execution_count": 161,
   "metadata": {},
   "outputs": [],
   "source": [
    "turn1=turnC.groupby('hour')['ENTRIES','EXITS'].sum()"
   ]
  },
  {
   "cell_type": "code",
   "execution_count": null,
   "metadata": {},
   "outputs": [],
   "source": []
  },
  {
   "cell_type": "code",
   "execution_count": 103,
   "metadata": {},
   "outputs": [],
   "source": [
    "#turnD=turnC.groupby('hour')['ENTRIES','EXITS'].mean()"
   ]
  },
  {
   "cell_type": "code",
   "execution_count": 162,
   "metadata": {},
   "outputs": [
    {
     "data": {
      "text/html": [
       "<div>\n",
       "<style scoped>\n",
       "    .dataframe tbody tr th:only-of-type {\n",
       "        vertical-align: middle;\n",
       "    }\n",
       "\n",
       "    .dataframe tbody tr th {\n",
       "        vertical-align: top;\n",
       "    }\n",
       "\n",
       "    .dataframe thead th {\n",
       "        text-align: right;\n",
       "    }\n",
       "</style>\n",
       "<table border=\"1\" class=\"dataframe\">\n",
       "  <thead>\n",
       "    <tr style=\"text-align: right;\">\n",
       "      <th></th>\n",
       "      <th>ENTRIES</th>\n",
       "      <th>EXITS</th>\n",
       "    </tr>\n",
       "    <tr>\n",
       "      <th>hour</th>\n",
       "      <th></th>\n",
       "      <th></th>\n",
       "    </tr>\n",
       "  </thead>\n",
       "  <tbody>\n",
       "    <tr>\n",
       "      <th>0</th>\n",
       "      <td>58071453</td>\n",
       "      <td>31578814</td>\n",
       "    </tr>\n",
       "    <tr>\n",
       "      <th>4</th>\n",
       "      <td>58071537</td>\n",
       "      <td>31579121</td>\n",
       "    </tr>\n",
       "    <tr>\n",
       "      <th>8</th>\n",
       "      <td>174224458</td>\n",
       "      <td>94738778</td>\n",
       "    </tr>\n",
       "    <tr>\n",
       "      <th>12</th>\n",
       "      <td>58079980</td>\n",
       "      <td>31580309</td>\n",
       "    </tr>\n",
       "    <tr>\n",
       "      <th>16</th>\n",
       "      <td>58081917</td>\n",
       "      <td>31581610</td>\n",
       "    </tr>\n",
       "    <tr>\n",
       "      <th>20</th>\n",
       "      <td>58083582</td>\n",
       "      <td>31586117</td>\n",
       "    </tr>\n",
       "  </tbody>\n",
       "</table>\n",
       "</div>"
      ],
      "text/plain": [
       "        ENTRIES     EXITS\n",
       "hour                     \n",
       "0      58071453  31578814\n",
       "4      58071537  31579121\n",
       "8     174224458  94738778\n",
       "12     58079980  31580309\n",
       "16     58081917  31581610\n",
       "20     58083582  31586117"
      ]
     },
     "execution_count": 162,
     "metadata": {},
     "output_type": "execute_result"
    }
   ],
   "source": [
    "turn1"
   ]
  },
  {
   "cell_type": "code",
   "execution_count": 148,
   "metadata": {},
   "outputs": [],
   "source": [
    "#turn1['ENTRIES'] = (turn1['ENTRIES'] - turn1['ENTRIES'].mean()) / turn1['ENTRIES'].std()\n",
    "#turn1['EXITS'] = (turn1['EXITS'] - turn1['EXITS'].mean()) / turn1['EXITS'].std()"
   ]
  },
  {
   "cell_type": "code",
   "execution_count": 163,
   "metadata": {},
   "outputs": [],
   "source": [
    "turn1['ENTRIES'] = turn1['ENTRIES'] / 1000000\n",
    "turn1['EXITS'] = turn1['EXITS'] / 1000000"
   ]
  },
  {
   "cell_type": "code",
   "execution_count": 170,
   "metadata": {},
   "outputs": [
    {
     "data": {
      "text/plain": [
       "Text(0.5,1,'Turnstile Exits and Entries on Monday at Astoria Blvd.')"
      ]
     },
     "execution_count": 170,
     "metadata": {},
     "output_type": "execute_result"
    },
    {
     "data": {
      "image/png": "[encoded data removed]",
      "text/plain": [
       "<Figure size 864x720 with 1 Axes>"
      ]
     },
     "metadata": {},
     "output_type": "display_data"
    },
    {
     "data": {
      "image/png": "[encoded data removed]",
      "text/plain": [
       "<Figure size 864x720 with 1 Axes>"
      ]
     },
     "metadata": {},
     "output_type": "display_data"
    }
   ],
   "source": [
    "\n",
    "\n",
    "turn1.plot.bar(figsize=(12, 10), y='ENTRIES', label=\"Entries\", color='b')\n",
    "turn1.plot.bar(figsize=(12, 10),y='EXITS', label=\"Exits\", color='g')\n",
    "\n",
    "plt.xlabel('hour of reading')\n",
    "plt.ylabel('turns in millions since last reading')\n",
    "\n",
    "plt.legend()\n",
    "\n",
    "\n",
    "plt.title('Turnstile Exits and Entries on Monday at Astoria Blvd.')\n",
    "\n",
    "#plt.show()\n"
   ]
  },
  {
   "cell_type": "code",
   "execution_count": null,
   "metadata": {
    "scrolled": true
   },
   "outputs": [],
   "source": []
  },
  {
   "cell_type": "code",
   "execution_count": null,
   "metadata": {},
   "outputs": [],
   "source": [
    "\n",
    "  "
   ]
  },
  {
   "cell_type": "code",
   "execution_count": null,
   "metadata": {},
   "outputs": [],
   "source": []
  }
 ],
 "metadata": {
  "kernelspec": {
   "display_name": "Python 3",
   "language": "python",
   "name": "python3"
  },
  "language_info": {
   "codemirror_mode": {
    "name": "ipython",
    "version": 3
   },
   "file_extension": ".py",
   "mimetype": "text/x-python",
   "name": "python",
   "nbconvert_exporter": "python",
   "pygments_lexer": "ipython3",
   "version": "3.6.5"
  }
 },
 "nbformat": 4,
 "nbformat_minor": 2
}
